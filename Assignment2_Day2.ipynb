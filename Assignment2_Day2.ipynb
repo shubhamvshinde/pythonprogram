{
  "nbformat": 4,
  "nbformat_minor": 0,
  "metadata": {
    "colab": {
      "name": "Assignment2_Day2.ipynb",
      "provenance": [],
      "authorship_tag": "ABX9TyMLj9JK8OnIsDX1BP/gOYJ+",
      "include_colab_link": true
    },
    "kernelspec": {
      "name": "python3",
      "display_name": "Python 3"
    }
  },
  "cells": [
    {
      "cell_type": "markdown",
      "metadata": {
        "id": "view-in-github",
        "colab_type": "text"
      },
      "source": [
        "<a href=\"https://colab.research.google.com/github/shubhamvshinde/pythonprogram/blob/main/Assignment2_Day2.ipynb\" target=\"_parent\"><img src=\"https://colab.research.google.com/assets/colab-badge.svg\" alt=\"Open In Colab\"/></a>"
      ]
    },
    {
      "cell_type": "markdown",
      "metadata": {
        "id": "O2syVYBjRv4x"
      },
      "source": [
        "Que2. Experiment with 5 Dict's in_built function, and post in Github."
      ]
    },
    {
      "cell_type": "code",
      "metadata": {
        "id": "1B3eJI_4RuEL"
      },
      "source": [
        "dictionary={\"subject\":\"marathi\",\"Teacher\":\"mahamulkar sir\",\"class\":\"9th\"}"
      ],
      "execution_count": 4,
      "outputs": []
    },
    {
      "cell_type": "code",
      "metadata": {
        "colab": {
          "base_uri": "https://localhost:8080/"
        },
        "id": "afU6-M5vfqQ5",
        "outputId": "714868a5-0a14-4d33-9d9b-4c26f20ba87f"
      },
      "source": [
        "dictionary"
      ],
      "execution_count": 5,
      "outputs": [
        {
          "output_type": "execute_result",
          "data": {
            "text/plain": [
              "{'Teacher': 'mahamulkar sir', 'class': '9th', 'subject': 'marathi'}"
            ]
          },
          "metadata": {
            "tags": []
          },
          "execution_count": 5
        }
      ]
    },
    {
      "cell_type": "code",
      "metadata": {
        "colab": {
          "base_uri": "https://localhost:8080/",
          "height": 35
        },
        "id": "QT6i0m3Wgwex",
        "outputId": "666912c5-aedb-4ec5-9b0a-06d5e7df3f57"
      },
      "source": [
        "dictionary.get(\"subject\")"
      ],
      "execution_count": null,
      "outputs": [
        {
          "output_type": "execute_result",
          "data": {
            "application/vnd.google.colaboratory.intrinsic+json": {
              "type": "string"
            },
            "text/plain": [
              "'marathi'"
            ]
          },
          "metadata": {
            "tags": []
          },
          "execution_count": 13
        }
      ]
    },
    {
      "cell_type": "code",
      "metadata": {
        "colab": {
          "base_uri": "https://localhost:8080/"
        },
        "id": "yG68PYnEjLeq",
        "outputId": "566dacb5-e6eb-4dbc-8972-2331776a056f"
      },
      "source": [
        "dictionary.keys()"
      ],
      "execution_count": null,
      "outputs": [
        {
          "output_type": "execute_result",
          "data": {
            "text/plain": [
              "dict_keys(['subject', 'Teacher', 'class'])"
            ]
          },
          "metadata": {
            "tags": []
          },
          "execution_count": 15
        }
      ]
    },
    {
      "cell_type": "code",
      "metadata": {
        "colab": {
          "base_uri": "https://localhost:8080/",
          "height": 35
        },
        "id": "2bB_3tH3j2KG",
        "outputId": "eaf0346e-f854-4537-bd6c-11acff791ec0"
      },
      "source": [
        "dictionary[\"Teacher\"]"
      ],
      "execution_count": null,
      "outputs": [
        {
          "output_type": "execute_result",
          "data": {
            "application/vnd.google.colaboratory.intrinsic+json": {
              "type": "string"
            },
            "text/plain": [
              "'mahamulkar sir'"
            ]
          },
          "metadata": {
            "tags": []
          },
          "execution_count": 5
        }
      ]
    },
    {
      "cell_type": "code",
      "metadata": {
        "colab": {
          "base_uri": "https://localhost:8080/"
        },
        "id": "2OM8-xwzkDx6",
        "outputId": "a52eff11-3356-4868-fa43-1bada23b8b83"
      },
      "source": [
        "dictionary.values()"
      ],
      "execution_count": null,
      "outputs": [
        {
          "output_type": "execute_result",
          "data": {
            "text/plain": [
              "dict_values(['marathi', 'mahamulkar sir', '9th'])"
            ]
          },
          "metadata": {
            "tags": []
          },
          "execution_count": 11
        }
      ]
    },
    {
      "cell_type": "code",
      "metadata": {
        "colab": {
          "base_uri": "https://localhost:8080/"
        },
        "id": "huTT3ZeXlMkp",
        "outputId": "4bf3195b-38e4-49f3-a304-7e4f4bc80b0e"
      },
      "source": [
        "dictionary.items()"
      ],
      "execution_count": null,
      "outputs": [
        {
          "output_type": "execute_result",
          "data": {
            "text/plain": [
              "dict_items([('subject', 'marathi'), ('Teacher', 'mahamulkar sir'), ('class', '9th')])"
            ]
          },
          "metadata": {
            "tags": []
          },
          "execution_count": 16
        }
      ]
    },
    {
      "cell_type": "code",
      "metadata": {
        "colab": {
          "base_uri": "https://localhost:8080/"
        },
        "id": "Pk8buMQ_m2h-",
        "outputId": "362789d1-93be-4566-a6ec-904a4fee2fc0"
      },
      "source": [
        "updatedict={\"name\":\"shubham\"}\r\n",
        "print(updatedict)"
      ],
      "execution_count": 2,
      "outputs": [
        {
          "output_type": "stream",
          "text": [
            "{'name': 'shubham'}\n"
          ],
          "name": "stdout"
        }
      ]
    },
    {
      "cell_type": "code",
      "metadata": {
        "colab": {
          "base_uri": "https://localhost:8080/"
        },
        "id": "5ByIb7SjpmuM",
        "outputId": "223001a0-7d03-472d-9a1f-86f5c3054ab0"
      },
      "source": [
        "dictionary.update(updatedict)\r\n",
        "print(dictionary)"
      ],
      "execution_count": 6,
      "outputs": [
        {
          "output_type": "stream",
          "text": [
            "{'subject': 'marathi', 'Teacher': 'mahamulkar sir', 'class': '9th', 'name': 'shubham'}\n"
          ],
          "name": "stdout"
        }
      ]
    },
    {
      "cell_type": "code",
      "metadata": {
        "id": "SYYVetCXpiwt"
      },
      "source": [
        ""
      ],
      "execution_count": null,
      "outputs": []
    }
  ]
}