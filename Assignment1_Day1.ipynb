{
  "nbformat": 4,
  "nbformat_minor": 0,
  "metadata": {
    "colab": {
      "name": "Assignment1_Day1.ipynb",
      "provenance": [],
      "collapsed_sections": []
    },
    "kernelspec": {
      "name": "python3",
      "display_name": "Python 3"
    }
  },
  "cells": [
    {
      "cell_type": "markdown",
      "metadata": {
        "id": "su_G1ClLLi03"
      },
      "source": [
        ""
      ]
    },
    {
      "cell_type": "markdown",
      "metadata": {
        "id": "GQSa1Y9oLnLv"
      },
      "source": [
        "Que.1 Experiment with 5 Lists in-built funcions, and post it to Github.\r\n",
        "\r\n"
      ]
    },
    {
      "cell_type": "code",
      "metadata": {
        "id": "N4YZyQH_LXsI"
      },
      "source": [
        "list = [\"shubham\",\"akash\",46,\"sai\",50.4,\"saurabh\"]"
      ],
      "execution_count": 15,
      "outputs": []
    },
    {
      "cell_type": "code",
      "metadata": {
        "colab": {
          "base_uri": "https://localhost:8080/"
        },
        "id": "gDvyadYQMz0X",
        "outputId": "7799fe68-ad26-414f-a383-adfbe8e8310f"
      },
      "source": [
        "print(list)"
      ],
      "execution_count": 16,
      "outputs": [
        {
          "output_type": "stream",
          "text": [
            "['shubham', 'akash', 46, 'sai', 50.4, 'saurabh']\n"
          ],
          "name": "stdout"
        }
      ]
    },
    {
      "cell_type": "code",
      "metadata": {
        "colab": {
          "base_uri": "https://localhost:8080/",
          "height": 35
        },
        "id": "DzLOfn_uM_jZ",
        "outputId": "76939f94-6144-40cf-c922-3d5bdfaeca7f"
      },
      "source": [
        "list[3]"
      ],
      "execution_count": 17,
      "outputs": [
        {
          "output_type": "execute_result",
          "data": {
            "application/vnd.google.colaboratory.intrinsic+json": {
              "type": "string"
            },
            "text/plain": [
              "'sai'"
            ]
          },
          "metadata": {
            "tags": []
          },
          "execution_count": 17
        }
      ]
    },
    {
      "cell_type": "code",
      "metadata": {
        "colab": {
          "base_uri": "https://localhost:8080/"
        },
        "id": "sab8ncf_PqTT",
        "outputId": "4b66c61f-e3ae-4ce8-e566-fd2058ccf404"
      },
      "source": [
        "list.append(\"omkar\")\r\n",
        "print(list)"
      ],
      "execution_count": 18,
      "outputs": [
        {
          "output_type": "stream",
          "text": [
            "['shubham', 'akash', 46, 'sai', 50.4, 'saurabh', 'omkar']\n"
          ],
          "name": "stdout"
        }
      ]
    },
    {
      "cell_type": "code",
      "metadata": {
        "colab": {
          "base_uri": "https://localhost:8080/"
        },
        "id": "Oh071JuUP9OS",
        "outputId": "f7597d55-a3b7-4087-a002-895678776f36"
      },
      "source": [
        "list.insert(1,30)\r\n",
        "print(list)"
      ],
      "execution_count": 19,
      "outputs": [
        {
          "output_type": "stream",
          "text": [
            "['shubham', 30, 'akash', 46, 'sai', 50.4, 'saurabh', 'omkar']\n"
          ],
          "name": "stdout"
        }
      ]
    },
    {
      "cell_type": "code",
      "metadata": {
        "colab": {
          "base_uri": "https://localhost:8080/"
        },
        "id": "Ecoi1A9xQOHM",
        "outputId": "e84ee8cd-8133-4fe6-9029-de2edaab26f2"
      },
      "source": [
        "list.pop(1)\r\n",
        "print(list)"
      ],
      "execution_count": 20,
      "outputs": [
        {
          "output_type": "stream",
          "text": [
            "['shubham', 'akash', 46, 'sai', 50.4, 'saurabh', 'omkar']\n"
          ],
          "name": "stdout"
        }
      ]
    },
    {
      "cell_type": "code",
      "metadata": {
        "colab": {
          "base_uri": "https://localhost:8080/"
        },
        "id": "6_UCJlIhQX_G",
        "outputId": "52bb874e-fcdc-48a7-8808-2c6204d1348b"
      },
      "source": [
        "list.count(\"sai\")"
      ],
      "execution_count": 22,
      "outputs": [
        {
          "output_type": "execute_result",
          "data": {
            "text/plain": [
              "1"
            ]
          },
          "metadata": {
            "tags": []
          },
          "execution_count": 22
        }
      ]
    },
    {
      "cell_type": "code",
      "metadata": {
        "id": "GdhrwYMIQwy9"
      },
      "source": [
        "list.remove(50.4)"
      ],
      "execution_count": 23,
      "outputs": []
    },
    {
      "cell_type": "code",
      "metadata": {
        "colab": {
          "base_uri": "https://localhost:8080/"
        },
        "id": "hdqD-zn6Q7l6",
        "outputId": "937ef528-4e72-4fe2-ea64-b026f6d32619"
      },
      "source": [
        "print(list)"
      ],
      "execution_count": 24,
      "outputs": [
        {
          "output_type": "stream",
          "text": [
            "['shubham', 'akash', 46, 'sai', 'saurabh', 'omkar']\n"
          ],
          "name": "stdout"
        }
      ]
    }
  ]
}